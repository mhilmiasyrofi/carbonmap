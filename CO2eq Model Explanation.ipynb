{
 "cells": [
  {
   "cell_type": "markdown",
   "metadata": {},
   "source": [
    "# CO<sub>2</sub>-equivalent Model Explanation"
   ]
  },
  {
   "cell_type": "markdown",
   "metadata": {},
   "source": [
    "## Introduction\n",
    "- Global warming impact is the focus\n",
    "- What is CO<sub>2</sub> eq\n",
    "- Explain that we take the point of view of the consumer\n",
    "- Explain the problem of the chain of imports potentially being infinite"
   ]
  },
  {
   "cell_type": "markdown",
   "metadata": {},
   "source": [
    "## Methodology\n",
    "All the electricity that is consumed somewhere must have been produced somewhere else. This gives us a *balance* equation, that can be applied to each zone.\n",
    "\n",
    "Therefore, for the $i$-th country, the following equality holds about electricity:\n",
    "\n",
    "$$ consumption_i = production_i + import_i - export_i - transmission_i $$\n",
    "\n",
    "We will now assume that transmission costs are negligible. Each term of the equation has an associated carbon intensity, which we will describe:\n",
    "\n",
    "- The carbon intensity of the consumption, denoted by $x_i$, is the one we are seeking to determine.\n",
    "- The carbon intensity of imports is the the carbon intensity of the zone exporting that power. If that zone is identified by the letter $j$, then carbon intensity of power imported from $j$ to $i$ is $x_j$.\n",
    "Therefore, the carbon intensity of exports from contry $i$ is naturally $x_i$.\n",
    "- If production is split up by production mode (i.e. power plant type), then each production mode $m$ has an associated intensity $I_{i,m}$ depending on its type of power plant.\n",
    "\n",
    "This enables us to write an updated balance equation for the carbon flow taking place in the $i$-th country, having imports from $j$, exports to $k$ and production modes $m$\n",
    "\n",
    "$$ x_i \\cdot consumption_i = \\sum_m I_{i,m} \\cdot production_{i,m} + \\sum_j x_j \\cdot import_{i,j} - \\sum_k x_i \\cdot export_{i,k} $$\n",
    "\n",
    "\n",
    "Note that because in this simplified model $consumption = production + import - export$, exports cancel out, and the equation reduces to\n",
    "\n",
    "$$ x_i \\left(\\sum_m production_{i,m} + \\sum_j import_{i,j} \\right) = \\sum_m I_{i,m} \\cdot production_i + \\sum_j x_j \\cdot import_{i,j}$$\n",
    "\n",
    "which is neatly renamed to \n",
    "\n",
    "$$ x_i \\left(production_i + import_i \\right) = \\sum_m I_{i,m} \\cdot production_i + \\sum_j x_j \\cdot import_{i,j}$$"
   ]
  },
  {
   "cell_type": "markdown",
   "metadata": {},
   "source": [
    "Writing out all equations for all countries, one obtains a linear system of equations, where we wish to solve for $x$:\n",
    "\n",
    "$$\n",
    "\\begin{bmatrix}\n",
    "  production_{1} + import_{1} & -import_{1,2} & \\cdots & -import_{1,n} \\\\\n",
    "  -import_{2,1} & production_{2} + import_{2} & \\cdots & -import_{2,n}\\\\\n",
    "  \\vdots & \\vdots & \\ddots & \\vdots\\\\\n",
    "  -import_{n,1} & -import_{n,2} & \\cdots & production_{n} + import_{n}\n",
    "\\end{bmatrix} \n",
    "\\begin{bmatrix}x_1\\\\\\vdots\\\\x_n\\end{bmatrix}\n",
    "=\n",
    "\\begin{bmatrix}\n",
    "\\sum_m I_{1,m} \\cdot production_1\\\\\n",
    "\\vdots\\\\\n",
    "\\sum_m I_{n,m} \\cdot production_n\n",
    "\\end{bmatrix}$$\n",
    "\n",
    "where $import_{i,j}$ represents the amount of import to $i$-th country from $j$-th country. The matrix is sparse, and represents the connectivity of the zones."
   ]
  },
  {
   "cell_type": "markdown",
   "metadata": {},
   "source": [
    "Solving this linear system gives the carbon intensities $x_i$ of each zone."
   ]
  },
  {
   "cell_type": "markdown",
   "metadata": {},
   "source": [
    "## Special cases\n",
    "- Import from missing countries\n",
    "  - \n",
    "- Storage"
   ]
  },
  {
   "cell_type": "code",
   "execution_count": null,
   "metadata": {
    "collapsed": true
   },
   "outputs": [],
   "source": []
  }
 ],
 "metadata": {
  "kernelspec": {
   "display_name": "Python 2",
   "language": "python",
   "name": "python2"
  },
  "language_info": {
   "codemirror_mode": {
    "name": "ipython",
    "version": 3
   },
   "file_extension": ".py",
   "mimetype": "text/x-python",
   "name": "python",
   "nbconvert_exporter": "python",
   "pygments_lexer": "ipython3",
   "version": "3.6.4"
  }
 },
 "nbformat": 4,
 "nbformat_minor": 1
}
